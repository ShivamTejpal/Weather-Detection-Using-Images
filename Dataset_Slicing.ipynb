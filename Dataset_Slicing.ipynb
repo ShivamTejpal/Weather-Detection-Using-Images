{
 "cells": [
  {
   "cell_type": "code",
   "execution_count": 1,
   "metadata": {},
   "outputs": [],
   "source": [
    "import os\n",
    "import cv2\n",
    "import matplotlib.pyplot as plt"
   ]
  },
  {
   "cell_type": "code",
   "execution_count": 2,
   "metadata": {},
   "outputs": [
    {
     "name": "stdout",
     "output_type": "stream",
     "text": [
      "------------------Data Sliced------------------\n"
     ]
    }
   ],
   "source": [
    "Source = 'Dataset' \n",
    "Target = 'Data'\n",
    "\n",
    "for filename in os.listdir(Source):\n",
    "    os.mkdir(Target + '/' + filename)\n",
    "    count = 1\n",
    "    for file in os.listdir(Source + '/' + filename):\n",
    "        img = cv2.imread(Source + '/' + filename + '/' + file)\n",
    "        target_name = Target + '/' + filename + '/' + file\n",
    "        cv2.imwrite(target_name, img)\n",
    "        count += 1\n",
    "        if count >1000:\n",
    "            break\n",
    "print (\"------------------Data Sliced------------------\")"
   ]
  }
 ],
 "metadata": {
  "kernelspec": {
   "display_name": "Python 3",
   "language": "python",
   "name": "python3"
  },
  "language_info": {
   "codemirror_mode": {
    "name": "ipython",
    "version": 3
   },
   "file_extension": ".py",
   "mimetype": "text/x-python",
   "name": "python",
   "nbconvert_exporter": "python",
   "pygments_lexer": "ipython3",
   "version": "3.8.5"
  }
 },
 "nbformat": 4,
 "nbformat_minor": 4
}
