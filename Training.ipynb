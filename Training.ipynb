{
 "cells": [
  {
   "cell_type": "markdown",
   "metadata": {},
   "source": [
    "# CNN Training"
   ]
  },
  {
   "cell_type": "code",
   "execution_count": 1,
   "metadata": {},
   "outputs": [],
   "source": [
    "import tensorflow as tf\n",
    "gpus = tf.config.experimental.list_physical_devices('GPU')\n",
    "if gpus:\n",
    "  try:\n",
    "    for gpu in gpus:\n",
    "      tf.config.experimental.set_memory_growth(gpu, True)\n",
    "  except RuntimeError as e:\n",
    "    print(e)"
   ]
  },
  {
   "cell_type": "code",
   "execution_count": 2,
   "metadata": {},
   "outputs": [],
   "source": [
    "import numpy as np\n",
    "from keras.models import Sequential\n",
    "from keras.layers import Conv2D, MaxPooling2D, Flatten, Dropout, Dense\n",
    "from keras.utils import np_utils\n",
    "from keras import regularizers"
   ]
  },
  {
   "cell_type": "markdown",
   "metadata": {},
   "source": [
    "## Loading prepared data"
   ]
  },
  {
   "cell_type": "code",
   "execution_count": 3,
   "metadata": {},
   "outputs": [],
   "source": [
    "train_data = np.load(\"Data_npy/train_data.npy\")\n",
    "train_label = np.load(\"Data_npy/train_label.npy\")"
   ]
  },
  {
   "cell_type": "markdown",
   "metadata": {},
   "source": [
    "## Pre-processing Data"
   ]
  },
  {
   "cell_type": "code",
   "execution_count": 4,
   "metadata": {},
   "outputs": [],
   "source": [
    "# Normalizing data\n",
    "train_data = train_data / 255.0"
   ]
  },
  {
   "cell_type": "code",
   "execution_count": 5,
   "metadata": {},
   "outputs": [],
   "source": [
    "# Reshaping data\n",
    "train_data = train_data.reshape(train_data.shape[0], 100, 100, 3)"
   ]
  },
  {
   "cell_type": "code",
   "execution_count": 6,
   "metadata": {},
   "outputs": [],
   "source": [
    "num_of_classes = 5\n",
    "# One-hot encoding of labels\n",
    "train_label = np_utils.to_categorical(train_label, num_of_classes)"
   ]
  },
  {
   "cell_type": "markdown",
   "metadata": {},
   "source": [
    "## Building Model"
   ]
  },
  {
   "cell_type": "code",
   "execution_count": 7,
   "metadata": {},
   "outputs": [],
   "source": [
    "model = Sequential()\n",
    "model.add(Conv2D(32, kernel_size=(1,1),input_shape=(100, 100, 3), activation='relu'))\n",
    "model.add(MaxPooling2D(pool_size=(2, 2)))\n",
    "model.add(Conv2D(32, kernel_size=(5,5), activation='relu'))\n",
    "model.add(MaxPooling2D(pool_size=(2, 2)))\n",
    "model.add(Flatten())\n",
    "model.add(Dense(100, activation = 'relu'))\n",
    "model.add(Dense(100, activation = 'relu'))\n",
    "model.add(Dropout(0.5))\n",
    "model.add(Dense(50, activation = 'relu'))\n",
    "model.add(Dense(num_of_classes, activation='softmax'))"
   ]
  },
  {
   "cell_type": "markdown",
   "metadata": {},
   "source": [
    "## Compiling model"
   ]
  },
  {
   "cell_type": "code",
   "execution_count": 8,
   "metadata": {},
   "outputs": [],
   "source": [
    "# Loss = categorical_crossentropy\n",
    "# Optimizer = Adam"
   ]
  },
  {
   "cell_type": "code",
   "execution_count": 9,
   "metadata": {},
   "outputs": [],
   "source": [
    "model.compile(loss='categorical_crossentropy', optimizer='Adam', metrics=['accuracy'])"
   ]
  },
  {
   "cell_type": "markdown",
   "metadata": {},
   "source": [
    "## Training our CNN model"
   ]
  },
  {
   "cell_type": "code",
   "execution_count": 10,
   "metadata": {},
   "outputs": [
    {
     "name": "stdout",
     "output_type": "stream",
     "text": [
      "Epoch 1/20\n",
      "93/93 - 11s - loss: 1.4118 - accuracy: 0.3804\n",
      "Epoch 2/20\n",
      "93/93 - 23s - loss: 1.1101 - accuracy: 0.5652\n",
      "Epoch 3/20\n",
      "93/93 - 27s - loss: 1.0352 - accuracy: 0.5973\n",
      "Epoch 4/20\n",
      "93/93 - 32s - loss: 0.9488 - accuracy: 0.6382\n",
      "Epoch 5/20\n",
      "93/93 - 45s - loss: 0.8929 - accuracy: 0.6618\n",
      "Epoch 6/20\n",
      "93/93 - 41s - loss: 0.8254 - accuracy: 0.6838\n",
      "Epoch 7/20\n",
      "93/93 - 40s - loss: 0.7439 - accuracy: 0.7167\n",
      "Epoch 8/20\n",
      "93/93 - 40s - loss: 0.6510 - accuracy: 0.7598\n",
      "Epoch 9/20\n",
      "93/93 - 30s - loss: 0.5959 - accuracy: 0.7847\n",
      "Epoch 10/20\n",
      "93/93 - 24s - loss: 0.4800 - accuracy: 0.8293\n",
      "Epoch 11/20\n",
      "93/93 - 24s - loss: 0.3890 - accuracy: 0.8624\n",
      "Epoch 12/20\n",
      "93/93 - 24s - loss: 0.3156 - accuracy: 0.8933\n",
      "Epoch 13/20\n",
      "93/93 - 24s - loss: 0.2384 - accuracy: 0.9230\n",
      "Epoch 14/20\n",
      "93/93 - 24s - loss: 0.1770 - accuracy: 0.9401\n",
      "Epoch 15/20\n",
      "93/93 - 24s - loss: 0.1443 - accuracy: 0.9552\n",
      "Epoch 16/20\n",
      "93/93 - 24s - loss: 0.1271 - accuracy: 0.9585\n",
      "Epoch 17/20\n",
      "93/93 - 24s - loss: 0.0973 - accuracy: 0.9695\n",
      "Epoch 18/20\n",
      "93/93 - 24s - loss: 0.1009 - accuracy: 0.9673\n",
      "Epoch 19/20\n",
      "93/93 - 24s - loss: 0.0923 - accuracy: 0.9697\n",
      "Epoch 20/20\n",
      "93/93 - 24s - loss: 0.0711 - accuracy: 0.9790\n"
     ]
    }
   ],
   "source": [
    "history = model.fit(train_data, train_label, epochs=20, verbose=2, batch_size=50)"
   ]
  },
  {
   "cell_type": "markdown",
   "metadata": {},
   "source": [
    "## Save the model"
   ]
  },
  {
   "cell_type": "code",
   "execution_count": 11,
   "metadata": {},
   "outputs": [],
   "source": [
    "model.save(\"trainedModelE10.h5\",overwrite=True)"
   ]
  },
  {
   "cell_type": "markdown",
   "metadata": {},
   "source": [
    "## Visualizing the result"
   ]
  },
  {
   "cell_type": "code",
   "execution_count": 12,
   "metadata": {},
   "outputs": [],
   "source": [
    "import matplotlib.pyplot as plt"
   ]
  },
  {
   "cell_type": "code",
   "execution_count": 13,
   "metadata": {},
   "outputs": [
    {
     "data": {
      "image/png": "[encoded data removed]",
      "text/plain": [
       "<Figure size 432x288 with 1 Axes>"
      ]
     },
     "metadata": {
      "needs_background": "light"
     },
     "output_type": "display_data"
    }
   ],
   "source": [
    "# Loss graph\n",
    "plt.plot(history.history['loss'])\n",
    "plt.title('model loss')\n",
    "plt.ylabel('loss')\n",
    "plt.xlabel('epoch')\n",
    "plt.legend(['train', 'test'], loc='upper left')\n",
    "plt.savefig('Loss')\n",
    "plt.show()"
   ]
  },
  {
   "cell_type": "code",
   "execution_count": 14,
   "metadata": {},
   "outputs": [
    {
     "data": {
      "image/png": "[encoded data removed]",
      "text/plain": [
       "<Figure size 432x288 with 1 Axes>"
      ]
     },
     "metadata": {
      "needs_background": "light"
     },
     "output_type": "display_data"
    }
   ],
   "source": [
    "# Accuracy graph\n",
    "plt.plot(history.history['accuracy'])\n",
    "plt.title('accuracy')\n",
    "plt.ylabel('accuracy')\n",
    "plt.xlabel('epoch')\n",
    "plt.legend(['train', 'test'], loc='upper left')\n",
    "plt.savefig('Accuracy')\n",
    "plt.show()"
   ]
  }
 ],
 "metadata": {
  "kernelspec": {
   "display_name": "Python 3",
   "language": "python",
   "name": "python3"
  },
  "language_info": {
   "codemirror_mode": {
    "name": "ipython",
    "version": 3
   },
   "file_extension": ".py",
   "mimetype": "text/x-python",
   "name": "python",
   "nbconvert_exporter": "python",
   "pygments_lexer": "ipython3",
   "version": "3.8.5"
  }
 },
 "nbformat": 4,
 "nbformat_minor": 4
}
